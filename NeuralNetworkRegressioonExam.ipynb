{
 "cells": [
  {
   "cell_type": "code",
   "execution_count": 4,
   "metadata": {},
   "outputs": [
    {
     "name": "stdout",
     "output_type": "stream",
     "text": [
      "Requirement already satisfied: keras in c:\\users\\bedir\\anaconda3\\lib\\site-packages (2.4.3)\n",
      "Requirement already satisfied: pyyaml in c:\\users\\bedir\\anaconda3\\lib\\site-packages (from keras) (5.3)\n",
      "Requirement already satisfied: h5py in c:\\users\\bedir\\anaconda3\\lib\\site-packages (from keras) (2.10.0)\n",
      "Requirement already satisfied: numpy>=1.9.1 in c:\\users\\bedir\\anaconda3\\lib\\site-packages (from keras) (1.18.1)\n",
      "Requirement already satisfied: scipy>=0.14 in c:\\users\\bedir\\anaconda3\\lib\\site-packages (from keras) (1.4.1)\n",
      "Requirement already satisfied: six in c:\\users\\bedir\\anaconda3\\lib\\site-packages (from h5py->keras) (1.14.0)\n"
     ]
    }
   ],
   "source": [
    "!pip install keras"
   ]
  },
  {
   "cell_type": "code",
   "execution_count": 167,
   "metadata": {},
   "outputs": [
    {
     "name": "stdout",
     "output_type": "stream",
     "text": [
      "(404, 13)\n",
      "(404,)\n",
      "(102, 13)\n",
      "(102,)\n"
     ]
    }
   ],
   "source": [
    "from keras.datasets import boston_housing \n",
    "(X_train,y_train),(X_test,y_test)=boston_housing.load_data(\n",
    "    path=\"boston_housing.npz\", test_split=0.2, seed=113\n",
    ")\n",
    "\n",
    "print(X_train.shape)\n",
    "print(y_train.shape)\n",
    "print(X_test.shape)\n",
    "print(y_test.shape)\n"
   ]
  },
  {
   "cell_type": "code",
   "execution_count": 168,
   "metadata": {},
   "outputs": [
    {
     "data": {
      "text/html": [
       "<div>\n",
       "<style scoped>\n",
       "    .dataframe tbody tr th:only-of-type {\n",
       "        vertical-align: middle;\n",
       "    }\n",
       "\n",
       "    .dataframe tbody tr th {\n",
       "        vertical-align: top;\n",
       "    }\n",
       "\n",
       "    .dataframe thead th {\n",
       "        text-align: right;\n",
       "    }\n",
       "</style>\n",
       "<table border=\"1\" class=\"dataframe\">\n",
       "  <thead>\n",
       "    <tr style=\"text-align: right;\">\n",
       "      <th></th>\n",
       "      <th>0</th>\n",
       "      <th>1</th>\n",
       "      <th>2</th>\n",
       "      <th>3</th>\n",
       "      <th>4</th>\n",
       "      <th>5</th>\n",
       "      <th>6</th>\n",
       "      <th>7</th>\n",
       "      <th>8</th>\n",
       "      <th>9</th>\n",
       "      <th>10</th>\n",
       "      <th>11</th>\n",
       "      <th>12</th>\n",
       "    </tr>\n",
       "  </thead>\n",
       "  <tbody>\n",
       "    <tr>\n",
       "      <th>0</th>\n",
       "      <td>1.23247</td>\n",
       "      <td>0.0</td>\n",
       "      <td>8.14</td>\n",
       "      <td>0.0</td>\n",
       "      <td>0.538</td>\n",
       "      <td>6.142</td>\n",
       "      <td>91.7</td>\n",
       "      <td>3.9769</td>\n",
       "      <td>4.0</td>\n",
       "      <td>307.0</td>\n",
       "      <td>21.0</td>\n",
       "      <td>396.90</td>\n",
       "      <td>18.72</td>\n",
       "    </tr>\n",
       "    <tr>\n",
       "      <th>1</th>\n",
       "      <td>0.02177</td>\n",
       "      <td>82.5</td>\n",
       "      <td>2.03</td>\n",
       "      <td>0.0</td>\n",
       "      <td>0.415</td>\n",
       "      <td>7.610</td>\n",
       "      <td>15.7</td>\n",
       "      <td>6.2700</td>\n",
       "      <td>2.0</td>\n",
       "      <td>348.0</td>\n",
       "      <td>14.7</td>\n",
       "      <td>395.38</td>\n",
       "      <td>3.11</td>\n",
       "    </tr>\n",
       "  </tbody>\n",
       "</table>\n",
       "</div>"
      ],
      "text/plain": [
       "        0     1     2    3      4   ...   8      9     10      11     12\n",
       "0  1.23247   0.0  8.14  0.0  0.538  ...  4.0  307.0  21.0  396.90  18.72\n",
       "1  0.02177  82.5  2.03  0.0  0.415  ...  2.0  348.0  14.7  395.38   3.11\n",
       "\n",
       "[2 rows x 13 columns]"
      ]
     },
     "execution_count": 168,
     "metadata": {},
     "output_type": "execute_result"
    }
   ],
   "source": [
    "import pandas as pd \n",
    "pd.DataFrame(X_train).head(2) #Bağımsız değişkenlerimiz."
   ]
  },
  {
   "cell_type": "code",
   "execution_count": 180,
   "metadata": {},
   "outputs": [
    {
     "data": {
      "text/html": [
       "<div>\n",
       "<style scoped>\n",
       "    .dataframe tbody tr th:only-of-type {\n",
       "        vertical-align: middle;\n",
       "    }\n",
       "\n",
       "    .dataframe tbody tr th {\n",
       "        vertical-align: top;\n",
       "    }\n",
       "\n",
       "    .dataframe thead th {\n",
       "        text-align: right;\n",
       "    }\n",
       "</style>\n",
       "<table border=\"1\" class=\"dataframe\">\n",
       "  <thead>\n",
       "    <tr style=\"text-align: right;\">\n",
       "      <th></th>\n",
       "      <th>0</th>\n",
       "    </tr>\n",
       "  </thead>\n",
       "  <tbody>\n",
       "    <tr>\n",
       "      <th>0</th>\n",
       "      <td>15.2</td>\n",
       "    </tr>\n",
       "    <tr>\n",
       "      <th>1</th>\n",
       "      <td>42.3</td>\n",
       "    </tr>\n",
       "  </tbody>\n",
       "</table>\n",
       "</div>"
      ],
      "text/plain": [
       "      0\n",
       "0  15.2\n",
       "1  42.3"
      ]
     },
     "execution_count": 180,
     "metadata": {},
     "output_type": "execute_result"
    }
   ],
   "source": [
    "pd.DataFrame(y_train).head(2) #Bağımlı değişkenlerimiz."
   ]
  },
  {
   "cell_type": "code",
   "execution_count": 246,
   "metadata": {},
   "outputs": [],
   "source": [
    "from sklearn.preprocessing import StandardScaler\n",
    "X_train_scaled=StandardScaler().fit(X_train).transform(X_train);\n",
    "X_test_scaled=StandardScaler().fit(X_test).transform(X_test);"
   ]
  },
  {
   "cell_type": "markdown",
   "metadata": {},
   "source": [
    "Sütun isimleri yok ama, zaten sadece hedef değişkeni tahmin edip neaural network üzerinde biraz çalışacağız. Yorumlanması gereken değişkenler yok. "
   ]
  },
  {
   "cell_type": "code",
   "execution_count": 258,
   "metadata": {},
   "outputs": [],
   "source": [
    "from keras.models import Sequential\n",
    "from keras.layers import Dense\n",
    "model=Sequential()\n",
    "model.add(Dense(50, activation='relu', input_shape=(X_train_scaled.shape[1],)))\n",
    "model.add(Dense(50, activation='relu'))\n",
    "model.add(Dense(1))"
   ]
  },
  {
   "cell_type": "markdown",
   "metadata": {},
   "source": [
    "**input_shape=(X_train_scaled.shape[1],:** inputların sayısı,ilk katman \n",
    "\n",
    "**activation='relu'** katmandaki düğümlerde kullanılacak aktivasyon fonksiyonu."
   ]
  },
  {
   "cell_type": "code",
   "execution_count": 259,
   "metadata": {},
   "outputs": [],
   "source": [
    "from keras.optimizers import SGD #optimizasyon algoritması= Stochastic Gradient Descent\n",
    "sgd = SGD(lr=0.001, decay=1e-6, momentum=0.9, nesterov=True)\n",
    "model.compile(optimizer='adam', loss='mean_squared_error')"
   ]
  },
  {
   "cell_type": "code",
   "execution_count": null,
   "metadata": {},
   "outputs": [],
   "source": []
  },
  {
   "cell_type": "markdown",
   "metadata": {},
   "source": [
    "**SGD=** Stochastic Gradient Descent, geri yayılım ile katsayıları güncellerken ki algoritma, matematiksel metot.\n",
    "\n",
    "**lr** learning rate, yani öğrenme hızımız. Decay parametresi öğrenme hızımızı zamanla azaltıyor.\n",
    "\n",
    "**Momentum** yönteminde bir hız vektörü tutuyoruz ve her adımda bunu update ediyoruz. \n",
    "\n",
    "**Nesterov** momentumu ise bunu biraz daha akıllı yapan, büyük bir adım attıktan sonra kendini düzelten bir yöntem."
   ]
  },
  {
   "cell_type": "code",
   "execution_count": 260,
   "metadata": {},
   "outputs": [
    {
     "name": "stdout",
     "output_type": "stream",
     "text": [
      "Epoch 1/1\n",
      "404/404 [==============================] - 0s 745us/step - loss: 553.3366\n"
     ]
    },
    {
     "data": {
      "text/html": [
       "<div>\n",
       "<style scoped>\n",
       "    .dataframe tbody tr th:only-of-type {\n",
       "        vertical-align: middle;\n",
       "    }\n",
       "\n",
       "    .dataframe tbody tr th {\n",
       "        vertical-align: top;\n",
       "    }\n",
       "\n",
       "    .dataframe thead th {\n",
       "        text-align: right;\n",
       "    }\n",
       "</style>\n",
       "<table border=\"1\" class=\"dataframe\">\n",
       "  <thead>\n",
       "    <tr style=\"text-align: right;\">\n",
       "      <th></th>\n",
       "      <th>0</th>\n",
       "      <th>0</th>\n",
       "    </tr>\n",
       "  </thead>\n",
       "  <tbody>\n",
       "    <tr>\n",
       "      <th>0</th>\n",
       "      <td>7.2</td>\n",
       "      <td>1.671163</td>\n",
       "    </tr>\n",
       "    <tr>\n",
       "      <th>1</th>\n",
       "      <td>18.8</td>\n",
       "      <td>0.815093</td>\n",
       "    </tr>\n",
       "    <tr>\n",
       "      <th>2</th>\n",
       "      <td>19.0</td>\n",
       "      <td>0.919361</td>\n",
       "    </tr>\n",
       "    <tr>\n",
       "      <th>3</th>\n",
       "      <td>27.0</td>\n",
       "      <td>1.574613</td>\n",
       "    </tr>\n",
       "    <tr>\n",
       "      <th>4</th>\n",
       "      <td>22.2</td>\n",
       "      <td>0.790101</td>\n",
       "    </tr>\n",
       "    <tr>\n",
       "      <th>5</th>\n",
       "      <td>24.5</td>\n",
       "      <td>0.642203</td>\n",
       "    </tr>\n",
       "  </tbody>\n",
       "</table>\n",
       "</div>"
      ],
      "text/plain": [
       "      0         0\n",
       "0   7.2  1.671163\n",
       "1  18.8  0.815093\n",
       "2  19.0  0.919361\n",
       "3  27.0  1.574613\n",
       "4  22.2  0.790101\n",
       "5  24.5  0.642203"
      ]
     },
     "execution_count": 260,
     "metadata": {},
     "output_type": "execute_result"
    }
   ],
   "source": [
    "model.fit(X_train_scaled,y_train,epochs=1)\n",
    "pd.concat([pd.DataFrame(y_test),pd.DataFrame(model.predict(X_test_scaled))],axis=1).head(6) #1 kez yinelediğimizde, yani rastgele ağırlıklar ile kurdupumuz nöral ağda tahmin ve gerçek değerler."
   ]
  },
  {
   "cell_type": "code",
   "execution_count": 261,
   "metadata": {},
   "outputs": [
    {
     "name": "stdout",
     "output_type": "stream",
     "text": [
      "Epoch 1/5\n",
      "404/404 [==============================] - 0s 49us/step - loss: 504.8439\n",
      "Epoch 2/5\n",
      "404/404 [==============================] - 0s 44us/step - loss: 445.0711\n",
      "Epoch 3/5\n",
      "404/404 [==============================] - 0s 67us/step - loss: 371.6281\n",
      "Epoch 4/5\n",
      "404/404 [==============================] - 0s 54us/step - loss: 277.9555\n",
      "Epoch 5/5\n",
      "404/404 [==============================] - 0s 64us/step - loss: 187.9178\n"
     ]
    },
    {
     "data": {
      "text/html": [
       "<div>\n",
       "<style scoped>\n",
       "    .dataframe tbody tr th:only-of-type {\n",
       "        vertical-align: middle;\n",
       "    }\n",
       "\n",
       "    .dataframe tbody tr th {\n",
       "        vertical-align: top;\n",
       "    }\n",
       "\n",
       "    .dataframe thead th {\n",
       "        text-align: right;\n",
       "    }\n",
       "</style>\n",
       "<table border=\"1\" class=\"dataframe\">\n",
       "  <thead>\n",
       "    <tr style=\"text-align: right;\">\n",
       "      <th></th>\n",
       "      <th>0</th>\n",
       "      <th>0</th>\n",
       "    </tr>\n",
       "  </thead>\n",
       "  <tbody>\n",
       "    <tr>\n",
       "      <th>0</th>\n",
       "      <td>7.2</td>\n",
       "      <td>13.310325</td>\n",
       "    </tr>\n",
       "    <tr>\n",
       "      <th>1</th>\n",
       "      <td>18.8</td>\n",
       "      <td>7.066468</td>\n",
       "    </tr>\n",
       "    <tr>\n",
       "      <th>2</th>\n",
       "      <td>19.0</td>\n",
       "      <td>11.359685</td>\n",
       "    </tr>\n",
       "    <tr>\n",
       "      <th>3</th>\n",
       "      <td>27.0</td>\n",
       "      <td>14.078469</td>\n",
       "    </tr>\n",
       "    <tr>\n",
       "      <th>4</th>\n",
       "      <td>22.2</td>\n",
       "      <td>12.801603</td>\n",
       "    </tr>\n",
       "    <tr>\n",
       "      <th>5</th>\n",
       "      <td>24.5</td>\n",
       "      <td>6.219913</td>\n",
       "    </tr>\n",
       "  </tbody>\n",
       "</table>\n",
       "</div>"
      ],
      "text/plain": [
       "      0          0\n",
       "0   7.2  13.310325\n",
       "1  18.8   7.066468\n",
       "2  19.0  11.359685\n",
       "3  27.0  14.078469\n",
       "4  22.2  12.801603\n",
       "5  24.5   6.219913"
      ]
     },
     "execution_count": 261,
     "metadata": {},
     "output_type": "execute_result"
    }
   ],
   "source": [
    "model.fit(X_train_scaled,y_train,epochs=5)\n",
    "pd.concat([pd.DataFrame(y_test),pd.DataFrame(model.predict(X_test_scaled))],axis=1).head(6) #5 kez geriyayılım ile parametre güncllersek:"
   ]
  },
  {
   "cell_type": "code",
   "execution_count": 262,
   "metadata": {},
   "outputs": [],
   "source": [
    "#Biraz daha yakın.."
   ]
  },
  {
   "cell_type": "code",
   "execution_count": 263,
   "metadata": {},
   "outputs": [
    {
     "name": "stdout",
     "output_type": "stream",
     "text": [
      "Epoch 1/50\n",
      "404/404 [==============================] - 0s 54us/step - loss: 117.2110\n",
      "Epoch 2/50\n",
      "404/404 [==============================] - 0s 52us/step - loss: 80.5392\n",
      "Epoch 3/50\n",
      "404/404 [==============================] - 0s 47us/step - loss: 62.1456\n",
      "Epoch 4/50\n",
      "404/404 [==============================] - 0s 42us/step - loss: 48.7876\n",
      "Epoch 5/50\n",
      "404/404 [==============================] - 0s 42us/step - loss: 39.1130\n",
      "Epoch 6/50\n",
      "404/404 [==============================] - 0s 42us/step - loss: 32.7504\n",
      "Epoch 7/50\n",
      "404/404 [==============================] - 0s 42us/step - loss: 28.8605\n",
      "Epoch 8/50\n",
      "404/404 [==============================] - 0s 47us/step - loss: 26.2177\n",
      "Epoch 9/50\n",
      "404/404 [==============================] - 0s 64us/step - loss: 24.2903\n",
      "Epoch 10/50\n",
      "404/404 [==============================] - 0s 49us/step - loss: 22.6390\n",
      "Epoch 11/50\n",
      "404/404 [==============================] - 0s 69us/step - loss: 21.3892\n",
      "Epoch 12/50\n",
      "404/404 [==============================] - 0s 59us/step - loss: 20.2375\n",
      "Epoch 13/50\n",
      "404/404 [==============================] - 0s 54us/step - loss: 19.1952\n",
      "Epoch 14/50\n",
      "404/404 [==============================] - 0s 57us/step - loss: 18.3214\n",
      "Epoch 15/50\n",
      "404/404 [==============================] - 0s 54us/step - loss: 17.6737\n",
      "Epoch 16/50\n",
      "404/404 [==============================] - 0s 42us/step - loss: 16.8254\n",
      "Epoch 17/50\n",
      "404/404 [==============================] - 0s 40us/step - loss: 16.2054\n",
      "Epoch 18/50\n",
      "404/404 [==============================] - 0s 44us/step - loss: 15.6918\n",
      "Epoch 19/50\n",
      "404/404 [==============================] - 0s 44us/step - loss: 15.1358\n",
      "Epoch 20/50\n",
      "404/404 [==============================] - 0s 52us/step - loss: 14.6832\n",
      "Epoch 21/50\n",
      "404/404 [==============================] - 0s 54us/step - loss: 14.2653\n",
      "Epoch 22/50\n",
      "404/404 [==============================] - 0s 64us/step - loss: 13.8601\n",
      "Epoch 23/50\n",
      "404/404 [==============================] - 0s 59us/step - loss: 13.6320\n",
      "Epoch 24/50\n",
      "404/404 [==============================] - 0s 49us/step - loss: 13.1599\n",
      "Epoch 25/50\n",
      "404/404 [==============================] - 0s 49us/step - loss: 12.8235\n",
      "Epoch 26/50\n",
      "404/404 [==============================] - 0s 49us/step - loss: 12.5224\n",
      "Epoch 27/50\n",
      "404/404 [==============================] - 0s 59us/step - loss: 12.2906\n",
      "Epoch 28/50\n",
      "404/404 [==============================] - 0s 62us/step - loss: 12.0309\n",
      "Epoch 29/50\n",
      "404/404 [==============================] - 0s 57us/step - loss: 11.7958\n",
      "Epoch 30/50\n",
      "404/404 [==============================] - 0s 49us/step - loss: 11.5948\n",
      "Epoch 31/50\n",
      "404/404 [==============================] - 0s 47us/step - loss: 11.4326\n",
      "Epoch 32/50\n",
      "404/404 [==============================] - 0s 49us/step - loss: 11.2868\n",
      "Epoch 33/50\n",
      "404/404 [==============================] - 0s 52us/step - loss: 11.0506\n",
      "Epoch 34/50\n",
      "404/404 [==============================] - 0s 59us/step - loss: 10.9364\n",
      "Epoch 35/50\n",
      "404/404 [==============================] - 0s 54us/step - loss: 10.7823\n",
      "Epoch 36/50\n",
      "404/404 [==============================] - 0s 52us/step - loss: 10.6656\n",
      "Epoch 37/50\n",
      "404/404 [==============================] - 0s 44us/step - loss: 10.5383\n",
      "Epoch 38/50\n",
      "404/404 [==============================] - 0s 52us/step - loss: 10.4028\n",
      "Epoch 39/50\n",
      "404/404 [==============================] - 0s 64us/step - loss: 10.2886\n",
      "Epoch 40/50\n",
      "404/404 [==============================] - 0s 69us/step - loss: 10.2112\n",
      "Epoch 41/50\n",
      "404/404 [==============================] - 0s 57us/step - loss: 10.1605\n",
      "Epoch 42/50\n",
      "404/404 [==============================] - 0s 59us/step - loss: 10.0440\n",
      "Epoch 43/50\n",
      "404/404 [==============================] - 0s 67us/step - loss: 9.9358\n",
      "Epoch 44/50\n",
      "404/404 [==============================] - 0s 69us/step - loss: 9.9257\n",
      "Epoch 45/50\n",
      "404/404 [==============================] - 0s 74us/step - loss: 9.7896\n",
      "Epoch 46/50\n",
      "404/404 [==============================] - 0s 44us/step - loss: 9.8287\n",
      "Epoch 47/50\n",
      "404/404 [==============================] - 0s 52us/step - loss: 9.7095\n",
      "Epoch 48/50\n",
      "404/404 [==============================] - 0s 54us/step - loss: 9.5520\n",
      "Epoch 49/50\n",
      "404/404 [==============================] - 0s 47us/step - loss: 9.5805\n",
      "Epoch 50/50\n",
      "404/404 [==============================] - 0s 47us/step - loss: 9.4738\n"
     ]
    },
    {
     "data": {
      "text/html": [
       "<div>\n",
       "<style scoped>\n",
       "    .dataframe tbody tr th:only-of-type {\n",
       "        vertical-align: middle;\n",
       "    }\n",
       "\n",
       "    .dataframe tbody tr th {\n",
       "        vertical-align: top;\n",
       "    }\n",
       "\n",
       "    .dataframe thead th {\n",
       "        text-align: right;\n",
       "    }\n",
       "</style>\n",
       "<table border=\"1\" class=\"dataframe\">\n",
       "  <thead>\n",
       "    <tr style=\"text-align: right;\">\n",
       "      <th></th>\n",
       "      <th>0</th>\n",
       "      <th>0</th>\n",
       "    </tr>\n",
       "  </thead>\n",
       "  <tbody>\n",
       "    <tr>\n",
       "      <th>0</th>\n",
       "      <td>7.2</td>\n",
       "      <td>5.937324</td>\n",
       "    </tr>\n",
       "    <tr>\n",
       "      <th>1</th>\n",
       "      <td>18.8</td>\n",
       "      <td>17.842781</td>\n",
       "    </tr>\n",
       "    <tr>\n",
       "      <th>2</th>\n",
       "      <td>19.0</td>\n",
       "      <td>22.308292</td>\n",
       "    </tr>\n",
       "    <tr>\n",
       "      <th>3</th>\n",
       "      <td>27.0</td>\n",
       "      <td>31.576675</td>\n",
       "    </tr>\n",
       "    <tr>\n",
       "      <th>4</th>\n",
       "      <td>22.2</td>\n",
       "      <td>27.154345</td>\n",
       "    </tr>\n",
       "    <tr>\n",
       "      <th>5</th>\n",
       "      <td>24.5</td>\n",
       "      <td>17.516182</td>\n",
       "    </tr>\n",
       "  </tbody>\n",
       "</table>\n",
       "</div>"
      ],
      "text/plain": [
       "      0          0\n",
       "0   7.2   5.937324\n",
       "1  18.8  17.842781\n",
       "2  19.0  22.308292\n",
       "3  27.0  31.576675\n",
       "4  22.2  27.154345\n",
       "5  24.5  17.516182"
      ]
     },
     "execution_count": 263,
     "metadata": {},
     "output_type": "execute_result"
    }
   ],
   "source": [
    "model.fit(X_train_scaled,y_train,epochs=50)\n",
    "pd.concat([pd.DataFrame(y_test),pd.DataFrame(model.predict(X_test_scaled))],axis=1).head(6) #50 kez geriyayılım ile parametre güncllersek:"
   ]
  },
  {
   "cell_type": "code",
   "execution_count": 264,
   "metadata": {},
   "outputs": [
    {
     "name": "stdout",
     "output_type": "stream",
     "text": [
      "404/404 [==============================] - 0s 801us/step\n"
     ]
    },
    {
     "data": {
      "text/plain": [
       "9.362370547681753"
      ]
     },
     "execution_count": 264,
     "metadata": {},
     "output_type": "execute_result"
    }
   ],
   "source": [
    "#sonuçlar\n",
    "model.evaluate(X_train_scaled,y_train)"
   ]
  },
  {
   "cell_type": "code",
   "execution_count": 265,
   "metadata": {},
   "outputs": [
    {
     "name": "stdout",
     "output_type": "stream",
     "text": [
      "102/102 [==============================] - 0s 78us/step\n"
     ]
    },
    {
     "data": {
      "text/plain": [
       "21.950741038602942"
      ]
     },
     "execution_count": 265,
     "metadata": {},
     "output_type": "execute_result"
    }
   ],
   "source": [
    "model.evaluate(X_test_scaled,y_test)"
   ]
  },
  {
   "cell_type": "code",
   "execution_count": 266,
   "metadata": {},
   "outputs": [
    {
     "name": "stdout",
     "output_type": "stream",
     "text": [
      "Model: \"sequential_40\"\n",
      "_________________________________________________________________\n",
      "Layer (type)                 Output Shape              Param #   \n",
      "=================================================================\n",
      "dense_97 (Dense)             (None, 50)                700       \n",
      "_________________________________________________________________\n",
      "dense_98 (Dense)             (None, 50)                2550      \n",
      "_________________________________________________________________\n",
      "dense_99 (Dense)             (None, 1)                 51        \n",
      "=================================================================\n",
      "Total params: 3,301\n",
      "Trainable params: 3,301\n",
      "Non-trainable params: 0\n",
      "_________________________________________________________________\n"
     ]
    }
   ],
   "source": [
    "model.summary()"
   ]
  },
  {
   "cell_type": "code",
   "execution_count": 268,
   "metadata": {},
   "outputs": [
    {
     "data": {
      "text/html": [
       "<div>\n",
       "<style scoped>\n",
       "    .dataframe tbody tr th:only-of-type {\n",
       "        vertical-align: middle;\n",
       "    }\n",
       "\n",
       "    .dataframe tbody tr th {\n",
       "        vertical-align: top;\n",
       "    }\n",
       "\n",
       "    .dataframe thead th {\n",
       "        text-align: right;\n",
       "    }\n",
       "</style>\n",
       "<table border=\"1\" class=\"dataframe\">\n",
       "  <thead>\n",
       "    <tr style=\"text-align: right;\">\n",
       "      <th></th>\n",
       "      <th>0</th>\n",
       "      <th>0</th>\n",
       "    </tr>\n",
       "  </thead>\n",
       "  <tbody>\n",
       "    <tr>\n",
       "      <th>0</th>\n",
       "      <td>7.2</td>\n",
       "      <td>5.937324</td>\n",
       "    </tr>\n",
       "    <tr>\n",
       "      <th>1</th>\n",
       "      <td>18.8</td>\n",
       "      <td>17.842781</td>\n",
       "    </tr>\n",
       "    <tr>\n",
       "      <th>2</th>\n",
       "      <td>19.0</td>\n",
       "      <td>22.308292</td>\n",
       "    </tr>\n",
       "    <tr>\n",
       "      <th>3</th>\n",
       "      <td>27.0</td>\n",
       "      <td>31.576675</td>\n",
       "    </tr>\n",
       "    <tr>\n",
       "      <th>4</th>\n",
       "      <td>22.2</td>\n",
       "      <td>27.154345</td>\n",
       "    </tr>\n",
       "    <tr>\n",
       "      <th>5</th>\n",
       "      <td>24.5</td>\n",
       "      <td>17.516182</td>\n",
       "    </tr>\n",
       "    <tr>\n",
       "      <th>6</th>\n",
       "      <td>31.2</td>\n",
       "      <td>26.544992</td>\n",
       "    </tr>\n",
       "    <tr>\n",
       "      <th>7</th>\n",
       "      <td>22.9</td>\n",
       "      <td>22.468130</td>\n",
       "    </tr>\n",
       "    <tr>\n",
       "      <th>8</th>\n",
       "      <td>20.5</td>\n",
       "      <td>19.609678</td>\n",
       "    </tr>\n",
       "    <tr>\n",
       "      <th>9</th>\n",
       "      <td>23.2</td>\n",
       "      <td>19.454914</td>\n",
       "    </tr>\n",
       "    <tr>\n",
       "      <th>10</th>\n",
       "      <td>18.6</td>\n",
       "      <td>16.999746</td>\n",
       "    </tr>\n",
       "    <tr>\n",
       "      <th>11</th>\n",
       "      <td>14.5</td>\n",
       "      <td>16.798780</td>\n",
       "    </tr>\n",
       "    <tr>\n",
       "      <th>12</th>\n",
       "      <td>17.8</td>\n",
       "      <td>16.296408</td>\n",
       "    </tr>\n",
       "    <tr>\n",
       "      <th>13</th>\n",
       "      <td>50.0</td>\n",
       "      <td>41.619995</td>\n",
       "    </tr>\n",
       "    <tr>\n",
       "      <th>14</th>\n",
       "      <td>20.8</td>\n",
       "      <td>14.468040</td>\n",
       "    </tr>\n",
       "    <tr>\n",
       "      <th>15</th>\n",
       "      <td>24.3</td>\n",
       "      <td>18.897463</td>\n",
       "    </tr>\n",
       "    <tr>\n",
       "      <th>16</th>\n",
       "      <td>24.2</td>\n",
       "      <td>27.944712</td>\n",
       "    </tr>\n",
       "    <tr>\n",
       "      <th>17</th>\n",
       "      <td>19.8</td>\n",
       "      <td>21.221651</td>\n",
       "    </tr>\n",
       "    <tr>\n",
       "      <th>18</th>\n",
       "      <td>19.1</td>\n",
       "      <td>15.770152</td>\n",
       "    </tr>\n",
       "    <tr>\n",
       "      <th>19</th>\n",
       "      <td>22.7</td>\n",
       "      <td>23.339153</td>\n",
       "    </tr>\n",
       "  </tbody>\n",
       "</table>\n",
       "</div>"
      ],
      "text/plain": [
       "       0          0\n",
       "0    7.2   5.937324\n",
       "1   18.8  17.842781\n",
       "2   19.0  22.308292\n",
       "3   27.0  31.576675\n",
       "4   22.2  27.154345\n",
       "5   24.5  17.516182\n",
       "6   31.2  26.544992\n",
       "7   22.9  22.468130\n",
       "8   20.5  19.609678\n",
       "9   23.2  19.454914\n",
       "10  18.6  16.999746\n",
       "11  14.5  16.798780\n",
       "12  17.8  16.296408\n",
       "13  50.0  41.619995\n",
       "14  20.8  14.468040\n",
       "15  24.3  18.897463\n",
       "16  24.2  27.944712\n",
       "17  19.8  21.221651\n",
       "18  19.1  15.770152\n",
       "19  22.7  23.339153"
      ]
     },
     "execution_count": 268,
     "metadata": {},
     "output_type": "execute_result"
    }
   ],
   "source": [
    "pd.concat([pd.DataFrame(y_test),pd.DataFrame(model.predict(X_test_scaled))],axis=1).head(20)"
   ]
  },
  {
   "cell_type": "code",
   "execution_count": null,
   "metadata": {},
   "outputs": [],
   "source": [
    "df=pd.concat([df[[\"total_bill\",\"tip\",\"size\"]],X_labeled],axis=1)\n"
   ]
  },
  {
   "cell_type": "code",
   "execution_count": null,
   "metadata": {},
   "outputs": [],
   "source": []
  },
  {
   "cell_type": "code",
   "execution_count": null,
   "metadata": {},
   "outputs": [],
   "source": []
  },
  {
   "cell_type": "code",
   "execution_count": null,
   "metadata": {},
   "outputs": [],
   "source": []
  },
  {
   "cell_type": "code",
   "execution_count": null,
   "metadata": {},
   "outputs": [],
   "source": []
  },
  {
   "cell_type": "code",
   "execution_count": null,
   "metadata": {},
   "outputs": [],
   "source": []
  },
  {
   "cell_type": "code",
   "execution_count": null,
   "metadata": {},
   "outputs": [],
   "source": []
  },
  {
   "cell_type": "code",
   "execution_count": null,
   "metadata": {},
   "outputs": [],
   "source": []
  },
  {
   "cell_type": "code",
   "execution_count": null,
   "metadata": {},
   "outputs": [],
   "source": []
  },
  {
   "cell_type": "code",
   "execution_count": null,
   "metadata": {},
   "outputs": [],
   "source": []
  },
  {
   "cell_type": "code",
   "execution_count": null,
   "metadata": {},
   "outputs": [],
   "source": []
  },
  {
   "cell_type": "code",
   "execution_count": null,
   "metadata": {},
   "outputs": [],
   "source": []
  }
 ],
 "metadata": {
  "kernelspec": {
   "display_name": "Python 3",
   "language": "python",
   "name": "python3"
  },
  "language_info": {
   "codemirror_mode": {
    "name": "ipython",
    "version": 3
   },
   "file_extension": ".py",
   "mimetype": "text/x-python",
   "name": "python",
   "nbconvert_exporter": "python",
   "pygments_lexer": "ipython3",
   "version": "3.7.6"
  }
 },
 "nbformat": 4,
 "nbformat_minor": 4
}
